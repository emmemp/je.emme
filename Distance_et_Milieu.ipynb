{
  "nbformat": 4,
  "nbformat_minor": 0,
  "metadata": {
    "colab": {
      "provenance": [],
      "authorship_tag": "ABX9TyOwqk/T0jYnfLJ7JHDYdGfD",
      "include_colab_link": true
    },
    "kernelspec": {
      "name": "python3",
      "display_name": "Python 3"
    },
    "language_info": {
      "name": "python"
    }
  },
  "cells": [
    {
      "cell_type": "markdown",
      "metadata": {
        "id": "view-in-github",
        "colab_type": "text"
      },
      "source": [
        "<a href=\"https://colab.research.google.com/github/emmemp/je.emme/blob/test_colab/Distance_et_Milieu.ipynb\" target=\"_parent\"><img src=\"https://colab.research.google.com/assets/colab-badge.svg\" alt=\"Open In Colab\"/></a>"
      ]
    },
    {
      "cell_type": "code",
      "execution_count": null,
      "metadata": {
        "colab": {
          "base_uri": "https://localhost:8080/"
        },
        "id": "NWgjxqsqbASh",
        "outputId": "c471fbf3-60c2-4666-b90a-a0f33fdb197e"
      },
      "outputs": [
        {
          "output_type": "stream",
          "name": "stdout",
          "text": [
            "-------------------------------\n",
            "\n",
            "Milieu de deux points\n",
            "\n",
            "-------------------------------\n",
            "\n",
            "Coordonnée x du premier point: 5\n",
            "Coordonnée y du premier point: 3\n",
            "Coordonnée x du deuxième point: -2\n",
            "Coordonnée y du deuxième point: 9\n",
            "\n",
            "La coordonnée du point au milieu des deux points est:  ( 1.5 ; 6.0 )\n",
            "\n",
            "---------------------------------------------------------------------------------------------------------------------------------------------\n",
            "\n",
            "-------------------------------\n",
            "\n",
            "Distance entre 2 points\n",
            "\n",
            "-------------------------------\n",
            "\n",
            "Coordonnée x du premier point: 5\n",
            "Coordonnée y du premier point: 3\n",
            "Coordonnée x du deuxième point: -2\n",
            "Coordonnée y du deuxième point: 9\n",
            "\n",
            "La distance entre les points est:  9.219544457292887\n"
          ]
        }
      ],
      "source": [
        "from math import *\n",
        "print(\"-------------------------------\")\n",
        "print()\n",
        "print(\"Milieu de deux points\")\n",
        "print()\n",
        "print(\"-------------------------------\")\n",
        "print()\n",
        "cx1 = int(input(\"Coordonnée x du premier point: \"))\n",
        "cy1 = int(input(\"Coordonnée y du premier point: \"))\n",
        "cx2 = int(input(\"Coordonnée x du deuxième point: \"))\n",
        "cy2 = int(input(\"Coordonnée y du deuxième point: \"))\n",
        "cpx = ((cx1+cx2)/2)\n",
        "cpy = ((cy1+cy2)/2)\n",
        "print()\n",
        "print(\"La coordonnée du point au milieu des deux points est: \", \"(\",cpx, \";\", cpy,\")\")\n",
        "print()\n",
        "print(\"---------------------------------------------------------------------------------------------------------------------------------------------\")\n",
        "print()\n",
        "print(\"-------------------------------\")\n",
        "print()\n",
        "print(\"Distance entre 2 points\")\n",
        "print()\n",
        "print(\"-------------------------------\")\n",
        "print()\n",
        "x1 = int(input(\"Coordonnée x du premier point: \"))\n",
        "y1 = int(input(\"Coordonnée y du premier point: \"))\n",
        "x2 = int(input(\"Coordonnée x du deuxième point: \"))\n",
        "y2 = int(input(\"Coordonnée y du deuxième point: \"))\n",
        "dx= x2-x1\n",
        "dy = y2-y1\n",
        "dp = sqrt((dx)**2+(dy)**2)\n",
        "print()\n",
        "print(\"La distance entre les points est: \", dp)"
      ]
    }
  ]
}